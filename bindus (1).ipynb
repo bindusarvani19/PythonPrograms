{
 "cells": [
  {
   "cell_type": "code",
   "execution_count": 1,
   "id": "93d191be-189f-47c9-959b-a65f9764b15d",
   "metadata": {},
   "outputs": [
    {
     "name": "stdin",
     "output_type": "stream",
     "text": [
      "Enter rows: 5\n"
     ]
    },
    {
     "name": "stdout",
     "output_type": "stream",
     "text": [
      "*\n",
      "**\n",
      "***\n",
      "****\n",
      "*****\n"
     ]
    }
   ],
   "source": [
    "#Patterns using List comprehensions\n",
    "rows= int(input(\"Enter rows:\"))\n",
    "pattern=[''.join(['*' for _ in range (i)]) for i in range(1, rows+1)]\n",
    "for line in  pattern:\n",
    "    print(line)\n",
    "    "
   ]
  },
  {
   "cell_type": "code",
   "execution_count": 1,
   "id": "d43b207c-8d14-406d-a7dc-9989af2cfd49",
   "metadata": {},
   "outputs": [
    {
     "name": "stdin",
     "output_type": "stream",
     "text": [
      "Enter rows: 5\n"
     ]
    },
    {
     "name": "stdout",
     "output_type": "stream",
     "text": [
      "1\n",
      "12\n",
      "123\n",
      "1234\n",
      "12345\n"
     ]
    }
   ],
   "source": [
    "rows= int(input(\"Enter rows:\"))\n",
    "pattern=[''.join([str(num) for num in range (1,i+1)]) for i in range(1, rows+1)]\n",
    "for line in  pattern:\n",
    "    print(line)"
   ]
  },
  {
   "cell_type": "code",
   "execution_count": 7,
   "id": "39f09365-8ecd-44cf-a77b-f2cc2c21afa5",
   "metadata": {},
   "outputs": [
    {
     "name": "stdin",
     "output_type": "stream",
     "text": [
      "Enter rows: 5\n"
     ]
    },
    {
     "name": "stdout",
     "output_type": "stream",
     "text": [
      "A\n",
      "AB\n",
      "ABC\n",
      "ABCD\n",
      "ABCDE\n"
     ]
    }
   ],
   "source": [
    "rows= int(input(\"Enter rows:\"))\n",
    "pattern=[''.join([chr(65+j) for j in range (i)]) for i in range(1, rows+1)]#97 is lower case and 65 is the upper case\n",
    "for line in  pattern:\n",
    "    print(line)\n"
   ]
  },
  {
   "cell_type": "code",
   "execution_count": 9,
   "id": "99017296-67a8-4029-88ce-c6f75025e73a",
   "metadata": {},
   "outputs": [
    {
     "name": "stdin",
     "output_type": "stream",
     "text": [
      "Enter rows: 5\n"
     ]
    },
    {
     "name": "stdout",
     "output_type": "stream",
     "text": [
      "    *\n",
      "   ***\n",
      "  *****\n",
      " *******\n",
      "*********\n"
     ]
    }
   ],
   "source": [
    "rows= int(input(\"Enter rows:\"))\n",
    "pattern=[(' ' * (rows-i) + '*' * (2*i-1))for i in range(1, rows+1)]#97 is lower case and 65 is the upper case\n",
    "for line in  pattern:\n",
    "    print(line)"
   ]
  },
  {
   "cell_type": "code",
   "execution_count": 15,
   "id": "f9d39e3d-72bb-4c83-a332-20987baab04b",
   "metadata": {},
   "outputs": [
    {
     "name": "stdin",
     "output_type": "stream",
     "text": [
      "Enter rows: 5\n"
     ]
    },
    {
     "name": "stdout",
     "output_type": "stream",
     "text": [
      "2\n",
      "24\n",
      "246\n",
      "2468\n",
      "246810\n"
     ]
    }
   ],
   "source": [
    "rows= int(input(\"Enter rows:\"))\n",
    "pattern=[''.join([str(j*2) for j in range (1,i+1)]) for i in range(1, rows+1)]\n",
    "for line in  pattern:\n",
    "    print(line)"
   ]
  },
  {
   "cell_type": "code",
   "execution_count": 13,
   "id": "a21aa220-b01b-445c-873f-c35322fff1a2",
   "metadata": {},
   "outputs": [
    {
     "name": "stdin",
     "output_type": "stream",
     "text": [
      "Enter rows: 5\n"
     ]
    },
    {
     "name": "stdout",
     "output_type": "stream",
     "text": [
      "12345\n",
      "1234\n",
      "123\n",
      "12\n",
      "1\n"
     ]
    }
   ],
   "source": [
    "rows= int(input(\"Enter rows:\"))\n",
    "pattern=[''.join([str(num) for num in range(1, rows-i+1)]) for i in range(rows)]#97 is lower case and 65 is the upper case\n",
    "for line in  pattern:\n",
    "    print(line)"
   ]
  },
  {
   "cell_type": "code",
   "execution_count": 17,
   "id": "bfa1b01c-1b9a-4d89-94e6-f41ea94a9fa7",
   "metadata": {},
   "outputs": [
    {
     "name": "stdin",
     "output_type": "stream",
     "text": [
      "Enter rows: 5\n"
     ]
    },
    {
     "name": "stdout",
     "output_type": "stream",
     "text": [
      "1\n",
      "13\n",
      "135\n",
      "1357\n",
      "13579\n"
     ]
    }
   ],
   "source": [
    "rows= int(input(\"Enter rows:\"))\n",
    "pattern=[''.join([str(j*2-1) for j in range (1,i+1)]) for i in range(1, rows+1)]\n",
    "for line in  pattern:\n",
    "    print(line)"
   ]
  },
  {
   "cell_type": "code",
   "execution_count": 1,
   "id": "1b617859-33ea-4847-949c-b56a02108d78",
   "metadata": {},
   "outputs": [
    {
     "name": "stdin",
     "output_type": "stream",
     "text": [
      "Enter number of rows:  5\n"
     ]
    },
    {
     "name": "stdout",
     "output_type": "stream",
     "text": [
      "*****\n",
      "*   *\n",
      "*   *\n",
      "*   *\n",
      "*****\n"
     ]
    }
   ],
   "source": [
    "rows = int(input(\"Enter number of rows: \"))\n",
    "pattern = [''.join(['*' if i in [0, rows-1] or j in [0, rows-1] else ' ' for j in range(rows)]) for i in range(rows)]\n",
    "for line in pattern:\n",
    "    print(line)\n"
   ]
  },
  {
   "cell_type": "code",
   "execution_count": 11,
   "id": "05884583-032a-4de0-82ad-d3e188f9cfe6",
   "metadata": {},
   "outputs": [
    {
     "name": "stdin",
     "output_type": "stream",
     "text": [
      "Enter rows: 5\n"
     ]
    },
    {
     "name": "stdout",
     "output_type": "stream",
     "text": [
      "* * * * * \n",
      "* *   * * \n",
      "*   *   * \n",
      "* *   * * \n",
      "* * * * * \n"
     ]
    }
   ],
   "source": [
    "n=int(input(\"Enter rows:\"))\n",
    "pattern=[['* ' if i==0 or i==n-1 or i==j or j==0 or j==n-1 or i+j==n-1 else '  ' for i in range(n)] for j in range(n)]\n",
    "for i in pattern:\n",
    "    print(''.join(i))"
   ]
  },
  {
   "cell_type": "code",
   "execution_count": 13,
   "id": "9c3c876d-6f31-4d18-8f24-d0b178970085",
   "metadata": {},
   "outputs": [
    {
     "name": "stdin",
     "output_type": "stream",
     "text": [
      "Enter rows: 7\n"
     ]
    },
    {
     "name": "stdout",
     "output_type": "stream",
     "text": [
      "*           * \n",
      "  *       *   \n",
      "    *   *     \n",
      "      *       \n",
      "    *   *     \n",
      "  *       *   \n",
      "*           * \n"
     ]
    }
   ],
   "source": [
    "n=int(input(\"Enter rows:\"))\n",
    "pattern=[['* ' if i==j or i+j==n-1 else '  ' for i in range(n)] for j in range(n)]\n",
    "for i in pattern:\n",
    "    print(''.join(i))"
   ]
  },
  {
   "cell_type": "code",
   "execution_count": null,
   "id": "6d14159d-55d7-459a-869c-1e6529191a84",
   "metadata": {},
   "outputs": [],
   "source": [
    "n = int(input(\"Enter number of rows: \"))\n",
    "\n",
    "# Top half\n",
    "top = [''.join('*' if j == 0 or j == i else ' 'for j in range(i + 1)) + ' ' * 2 * (n - i - 1) + ''.join('*' if j == 0 or j == i else ' 'for j in range(i + 1))for i in range(n)]\n",
    "bottom = top[::-1]\n",
    "pattern = top + bottom\n",
    "for line in pattern:\n",
    "    print(line)"
   ]
  },
  {
   "cell_type": "code",
   "execution_count": 15,
   "id": "00f24a47-3c92-4063-b558-e8a9c14804f7",
   "metadata": {},
   "outputs": [
    {
     "name": "stdin",
     "output_type": "stream",
     "text": [
      "Enter rows: 7\n"
     ]
    },
    {
     "name": "stdout",
     "output_type": "stream",
     "text": [
      "* * * * * * * \n",
      "* *         * \n",
      "*   *       * \n",
      "*     *     * \n",
      "*       *   * \n",
      "*         * * \n",
      "* * * * * * * \n"
     ]
    }
   ],
   "source": [
    "n=int(input(\"Enter rows:\"))\n",
    "pattern=[['* ' if i==0 or i==n-1 or i==j or j==0 or j==n-1 else '  ' for i in range(n)] for j in range(n)]\n",
    "for i in pattern:\n",
    "    print(''.join(i))"
   ]
  },
  {
   "cell_type": "code",
   "execution_count": 21,
   "id": "9ad04158-e227-4178-9c25-266413f6059b",
   "metadata": {},
   "outputs": [
    {
     "name": "stdin",
     "output_type": "stream",
     "text": [
      "Enter rows: 7\n"
     ]
    },
    {
     "name": "stdout",
     "output_type": "stream",
     "text": [
      "       *\n",
      "      * *\n",
      "     *   *\n",
      "    *     *\n",
      "   *       *\n",
      "  *         *\n",
      " *           *\n"
     ]
    }
   ],
   "source": [
    "n=int(input(\"Enter rows:\"))\n",
    "upper=[' '*(n-i)+''.join('*' if j==0 or j==2*i else ' ' for j in range(2*i+1)) for i in range(n)]\n",
    "lower=[' '*(i+1)+''.join('*' if j==0 or j==2*(n-i-1) else ' ' for j in range(2*i+1)) for i in range(n-1)]\n",
    "for line in upper:\n",
    "    print(line)"
   ]
  },
  {
   "cell_type": "code",
   "execution_count": 27,
   "id": "ac98f2b0-7743-489e-b4fa-cbf40f164c8e",
   "metadata": {},
   "outputs": [
    {
     "name": "stdin",
     "output_type": "stream",
     "text": [
      "Enter rows:  7\n"
     ]
    },
    {
     "name": "stdout",
     "output_type": "stream",
     "text": [
      "       *\n",
      "      * *\n",
      "     *   *\n",
      "    *     *\n",
      "   *       *\n",
      "  *         *\n",
      " *           *\n",
      "  *         *\n",
      "   *       *\n",
      "    *     *\n",
      "     *   *\n",
      "      * *\n",
      "       *\n"
     ]
    }
   ],
   "source": [
    "n = int(input(\"Enter rows: \"))\n",
    "upper = [' ' * (n - i) +''.join('*' if j == 0 or j == 2 * i else ' ' for j in range(2 * i + 1))for i in range(n)]\n",
    "lower = [' ' * (i + 2) +''.join('*' if j == 0 or j == 2 * (n - i - 2) else ' ' for j in range(2 * (n - i - 2) + 1))for i in range(n - 1)]\n",
    "for line in upper+lower:\n",
    "    print(line)"
   ]
  },
  {
   "cell_type": "code",
   "execution_count": 29,
   "id": "791b74c1-15cc-42da-81ca-27d31be22786",
   "metadata": {},
   "outputs": [
    {
     "name": "stdin",
     "output_type": "stream",
     "text": [
      "Enter size:  6\n"
     ]
    },
    {
     "name": "stdout",
     "output_type": "stream",
     "text": [
      "*         *\n",
      "**       **\n",
      "***     ***\n",
      "****   ****\n",
      "***** *****\n",
      "***********\n",
      "***** *****\n",
      "****   ****\n",
      "***     ***\n",
      "**       **\n",
      "*         *\n"
     ]
    }
   ],
   "source": [
    "n = int(input(\"Enter size: \"))\n",
    "upper = [''.join('*' if j <= i or j >= 2*n - i - 2 else ' ' for j in range(2*n - 1))for i in range(n)]\n",
    "lower = [''.join('*' if j <= n - i - 2 or j >= n + i else ' ' for j in range(2*n - 1))for i in range(n-1)]\n",
    "for line in upper + lower:\n",
    "    print(line)\n"
   ]
  },
  {
   "cell_type": "code",
   "execution_count": 31,
   "id": "d73f5dc1-52a7-4a85-aa56-0f84d986f0f1",
   "metadata": {},
   "outputs": [
    {
     "name": "stdin",
     "output_type": "stream",
     "text": [
      "Enter size:  7\n"
     ]
    },
    {
     "name": "stdout",
     "output_type": "stream",
     "text": [
      "*           *\n",
      "**         **\n",
      "***       ***\n",
      "****     ****\n",
      "*****   *****\n",
      "****** ******\n",
      "*************\n",
      "****** ******\n",
      "*****   *****\n",
      "****     ****\n",
      "***       ***\n",
      "**         **\n",
      "*           *\n"
     ]
    }
   ],
   "source": [
    "n = int(input(\"Enter size: \"))\n",
    "\n",
    "pattern = [''.join('*' if (i < n and (j <= i or j >= 2*n - i - 2)) or (i >= n and (j <= 2*n - i - 2 or j >= i))else ' 'for j in range(2*n - 1))for i in range(2*n - 1)]\n",
    "for line in pattern:\n",
    "    print(line)\n"
   ]
  },
  {
   "cell_type": "code",
   "execution_count": 33,
   "id": "efaf7a41-baf5-414f-ab56-7b63253f5a0d",
   "metadata": {},
   "outputs": [
    {
     "name": "stdin",
     "output_type": "stream",
     "text": [
      "Enter rows:  7\n"
     ]
    },
    {
     "name": "stdout",
     "output_type": "stream",
     "text": [
      "       *\n",
      "      * *\n",
      "     *   *\n",
      "    *     *\n",
      "   *       *\n",
      "  *         *\n",
      " *           *\n",
      "  *         *\n",
      "   *       *\n",
      "    *     *\n",
      "     *   *\n",
      "      * *\n",
      "       *\n"
     ]
    }
   ],
   "source": [
    "n = int(input(\"Enter rows: \"))\n",
    "upper = [' ' * (n - i) +''.join('*' if j == 0 or j == 2 * i else ' ' for j in range(2 * i + 1))for i in range(n)]\n",
    "lower = [' ' * (i + 2) +''.join('*' if j == 0 or j == 2 * (n - i - 2) else ' ' for j in range(2 * (n - i - 2) + 1))for i in range(n - 1)]\n",
    "for line in upper+lower:\n",
    "    print(line)"
   ]
  },
  {
   "cell_type": "code",
   "execution_count": 35,
   "id": "0d6ae79c-4366-4ab0-a6cc-842e35b609e6",
   "metadata": {},
   "outputs": [
    {
     "name": "stdout",
     "output_type": "stream",
     "text": [
      "4.0\n",
      "3.141592653589793\n"
     ]
    }
   ],
   "source": [
    "#modules \n",
    "import math\n",
    "print(math.sqrt(16))\n",
    "print(math.pi)"
   ]
  },
  {
   "cell_type": "code",
   "execution_count": null,
   "id": "a52ac897-09d5-415e-9037-c8b7d1dc1e34",
   "metadata": {},
   "outputs": [],
   "source": []
  },
  {
   "cell_type": "code",
   "execution_count": null,
   "id": "f78baa66-03d1-42b1-8d4e-d52e851e7639",
   "metadata": {},
   "outputs": [],
   "source": []
  },
  {
   "cell_type": "code",
   "execution_count": null,
   "id": "5e35ad46-fcd8-4a53-a2b9-29e0ad5b39c4",
   "metadata": {},
   "outputs": [],
   "source": []
  }
 ],
 "metadata": {
  "kernelspec": {
   "display_name": "Python 3 (ipykernel)",
   "language": "python",
   "name": "python3"
  },
  "language_info": {
   "codemirror_mode": {
    "name": "ipython",
    "version": 3
   },
   "file_extension": ".py",
   "mimetype": "text/x-python",
   "name": "python",
   "nbconvert_exporter": "python",
   "pygments_lexer": "ipython3",
   "version": "3.12.7"
  }
 },
 "nbformat": 4,
 "nbformat_minor": 5
}
