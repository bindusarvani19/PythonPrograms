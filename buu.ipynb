{
 "cells": [
  {
   "cell_type": "code",
   "execution_count": 3,
   "id": "d8414db1-35e0-4961-b337-273fea3b5c51",
   "metadata": {},
   "outputs": [
    {
     "name": "stdin",
     "output_type": "stream",
     "text": [
      "Enter the name: buu\n",
      "Enter the marks: 44\n"
     ]
    },
    {
     "name": "stdout",
     "output_type": "stream",
     "text": [
      "student name:buu\n",
      "student marks:44\n"
     ]
    }
   ],
   "source": [
    "'''classmethod: not the instances, class bound\n",
    "class class (1st arg)\n",
    "@classmethod'''\n",
    "\n",
    "class student():\n",
    "    def __init__(s,name,marks):\n",
    "        s.name=name\n",
    "        s.marks=marks\n",
    "    def display(self):\n",
    "        print(f\"student name:{s.name}\")\n",
    "        print(f\"student marks:{s.marks}\")\n",
    "\n",
    "name=str(input(\"Enter the name:\"))\n",
    "marks=int(input(\"Enter the marks:\"))\n",
    "s=student(name,marks)\n",
    "s.display()\n"
   ]
  },
  {
   "cell_type": "code",
   "execution_count": 9,
   "id": "ee721abb-b855-4cb5-99fe-04f734e1c069",
   "metadata": {},
   "outputs": [
    {
     "name": "stdin",
     "output_type": "stream",
     "text": [
      "Enter the name: buu\n",
      "Enter the marks: 55\n"
     ]
    },
    {
     "name": "stdout",
     "output_type": "stream",
     "text": [
      "Student name:buu\n",
      "Student marks:55\n"
     ]
    }
   ],
   "source": [
    "class student:\n",
    "    def __init__(self,name,marks):\n",
    "        self.name=name\n",
    "        self.marks=marks\n",
    "    @classmethod\n",
    "    def input(cls):\n",
    "        name=str(input(\"Enter the name:\"))\n",
    "        marks=int(input(\"Enter the marks:\"))\n",
    "        return cls(name, marks)\n",
    "    def display(self):\n",
    "        print(f\"Student name:{self.name}\")\n",
    "        print(f\"Student marks:{self.marks}\")\n",
    "s=student.input()\n",
    "s.display()"
   ]
  },
  {
   "cell_type": "code",
   "execution_count": 11,
   "id": "7d220820-bac9-4755-9586-8da74ea8b938",
   "metadata": {},
   "outputs": [
    {
     "name": "stdin",
     "output_type": "stream",
     "text": [
      "Enter a product name: lipbalm\n",
      "Enter the price of a product: 300\n",
      "Enter tax_rate in %: 6\n"
     ]
    },
    {
     "name": "stdout",
     "output_type": "stream",
     "text": [
      "Final p[rice oflipbalm is Rs.318.00\n"
     ]
    }
   ],
   "source": [
    "'''code to illustrate a product with its price by normal instance and calculate the \n",
    "products tax rate by 10% in a class method and print the total amount to be paid..'''\n",
    "\n",
    "class product:\n",
    "    tax_rate=0.18\n",
    "    def __init__(self,name,price):\n",
    "        self.name=name\n",
    "        self.price=price\n",
    "    def finalprice(self):\n",
    "        total=self.price *(1+product.tax_rate)\n",
    "        print(f\"Final price of{self.name} is Rs.{total:.2f}\")\n",
    "    @classmethod\n",
    "    def settax(cls,rate):\n",
    "        cls.tax_rate=rate/100\n",
    "name=str(input(\"Enter a product name:\"))\n",
    "price=float(input(\"Enter the price of a product:\"))\n",
    "rate=int(input(\"Enter tax_rate in %:\"))\n",
    "product.settax(rate)\n",
    "item=product(name, price)\n",
    "item.finalprice()"
   ]
  },
  {
   "cell_type": "code",
   "execution_count": 15,
   "id": "65592acb-c402-4421-b682-0631a6b74c95",
   "metadata": {},
   "outputs": [
    {
     "name": "stdin",
     "output_type": "stream",
     "text": [
      "Enter a number a: 6\n",
      "Enter a number b: 6\n"
     ]
    },
    {
     "name": "stdout",
     "output_type": "stream",
     "text": [
      "Addition result: 12\n"
     ]
    }
   ],
   "source": [
    "#basic math operation using @classmethod\n",
    "class calculator:\n",
    "    def __init__(self,a,b):\n",
    "        self.a=a\n",
    "        self.b=b\n",
    "    @classmethod\n",
    "    def input(cls):\n",
    "        a=int(input(\"Enter a number a:\"))\n",
    "        b=int(input(\"Enter a number b:\"))\n",
    "        return cls(a,b)\n",
    "    def add(self):\n",
    "        return self.a+self.b\n",
    "\n",
    "c=calculator.input()\n",
    "print(\"Addition result:\",c.add())\n"
   ]
  },
  {
   "cell_type": "code",
   "execution_count": 21,
   "id": "ca0ef588-4fdd-40a0-a9aa-732a9cbcecec",
   "metadata": {},
   "outputs": [
    {
     "name": "stdin",
     "output_type": "stream",
     "text": [
      "Enter a number a:  6\n",
      "Enter a number b:  7\n"
     ]
    },
    {
     "name": "stdout",
     "output_type": "stream",
     "text": [
      "Addition result: 13\n",
      "Subraction result: -1\n",
      "Multiplication result: 42\n",
      "Division result: 0.8571428571428571\n"
     ]
    }
   ],
   "source": [
    "class Calculator:\n",
    "    def __init__(s, a, b):\n",
    "        s.a = a\n",
    "        s.b = b\n",
    "    @classmethod\n",
    "    def input(cls):\n",
    "        a = int(input(\"Enter a number a: \"))\n",
    "        b = int(input(\"Enter a number b: \"))\n",
    "        return cls(a, b)\n",
    "    def op(s):\n",
    "        print(\"Addition result:\",s.a+s.b)\n",
    "        print(\"Subraction result:\",s.a-s.b)\n",
    "        print(\"Multiplication result:\",s.a*s.b)\n",
    "        print(\"Division result:\",s.a/s.b)\n",
    "c = Calculator.input()\n",
    "c.op()\n"
   ]
  },
  {
   "cell_type": "code",
   "execution_count": 5,
   "id": "93c28f64-9f53-4ecb-8c50-b614cbb46329",
   "metadata": {},
   "outputs": [
    {
     "name": "stdin",
     "output_type": "stream",
     "text": [
      "Enter your name: him\n",
      "Enter resident or non-resident: indian\n"
     ]
    },
    {
     "name": "stdout",
     "output_type": "stream",
     "text": [
      "name:him\n",
      "Student name: Male\n",
      "the person is indian\n"
     ]
    }
   ],
   "source": [
    "#static methods @staticmethod\n",
    "\n",
    "class student:\n",
    "    gender='Male'\n",
    "    def __init__(s,name):\n",
    "        s.name=name\n",
    "    def display(s):\n",
    "        print(f\"name:{s.name}\")\n",
    "    @classmethod\n",
    "    def getname(cls):\n",
    "        return cls.gender\n",
    "    @staticmethod\n",
    "    def resident(type_of_resident):\n",
    "        if type_of_resident.lower()=='indian':\n",
    "            return \"the person is indian\"\n",
    "        else:\n",
    "            return \"Non-resident indian\"\n",
    "        \n",
    "name=str(input(\"Enter your name:\"))\n",
    "type=input(\"Enter resident or non-resident:\")\n",
    "s=student(name)\n",
    "s.display()\n",
    "print(\"Student name:\",student.getname())\n",
    "print(s.resident(type))"
   ]
  },
  {
   "cell_type": "code",
   "execution_count": 19,
   "id": "2494eadd-e644-489d-881b-6340fd5516a5",
   "metadata": {},
   "outputs": [
    {
     "name": "stdin",
     "output_type": "stream",
     "text": [
      "Enter a value: 5\n",
      "Enter a value: 6\n"
     ]
    },
    {
     "name": "stdout",
     "output_type": "stream",
     "text": [
      "Sum 11\n",
      "Sub -1\n",
      "Mul 30\n",
      "Div 0.8333333333333334\n"
     ]
    }
   ],
   "source": [
    "class st:\n",
    "    @staticmethod\n",
    "    def op(a,b):\n",
    "        print(\"Sum\",a+b)\n",
    "        print(\"Sub\",a-b)\n",
    "        print(\"Mul\",a*b)\n",
    "        print(\"Div\",a/b)    \n",
    "x=int(input(\"Enter a value:\"))\n",
    "y=int(input(\"Enter a value:\"))\n",
    "st.op(x,y)"
   ]
  },
  {
   "cell_type": "code",
   "execution_count": 27,
   "id": "edcb4f69-fb09-49ef-b80f-d240e257f066",
   "metadata": {},
   "outputs": [
    {
     "ename": "NameError",
     "evalue": "name 'calc' is not defined",
     "output_type": "error",
     "traceback": [
      "\u001b[31m---------------------------------------------------------------------------\u001b[39m",
      "\u001b[31mNameError\u001b[39m                                 Traceback (most recent call last)",
      "\u001b[36mCell\u001b[39m\u001b[36m \u001b[39m\u001b[32mIn[27]\u001b[39m\u001b[32m, line 15\u001b[39m\n\u001b[32m     12\u001b[39m     \u001b[38;5;129m@staticmethod\u001b[39m\n\u001b[32m     13\u001b[39m     \u001b[38;5;28;01mdef\u001b[39;00m \u001b[34mmul\u001b[39m(x,y):\n\u001b[32m     14\u001b[39m         \u001b[38;5;28;01mreturn\u001b[39;00m x*y\n\u001b[32m---> \u001b[39m\u001b[32m15\u001b[39m c=\u001b[43mcalc\u001b[49m.input()\n\u001b[32m     16\u001b[39m \u001b[38;5;28mprint\u001b[39m(\u001b[33m\"\u001b[39m\u001b[33mAddition-instance\u001b[39m\u001b[33m\"\u001b[39m,c.add())\n\u001b[32m     17\u001b[39m x=\u001b[38;5;28mint\u001b[39m(\u001b[38;5;28minput\u001b[39m(\u001b[33m\"\u001b[39m\u001b[33mEnter number for mul:\u001b[39m\u001b[33m\"\u001b[39m))\n",
      "\u001b[31mNameError\u001b[39m: name 'calc' is not defined"
     ]
    }
   ],
   "source": [
    "class clac:\n",
    "    def __init__(s,a,b):\n",
    "        s.a=a\n",
    "        s.b=b\n",
    "    def add(s):\n",
    "        return s.a+s.b\n",
    "    @classmethod\n",
    "    def input(cls):\n",
    "        a=int(input(\"Enter number\"))\n",
    "        b=int(input(\"Enter number\"))\n",
    "        return cls(a,b)\n",
    "    @staticmethod\n",
    "    def mul(x,y):\n",
    "        return x*y\n",
    "c=calc.input()\n",
    "print(\"Addition-instance\",c.add())\n",
    "x=int(input(\"Enter number for mul:\"))\n",
    "y=int(input(\"Enter another number:\"))\n",
    "print(\"Mul-static\",c.mul(x,y))\n"
   ]
  },
  {
   "cell_type": "code",
   "execution_count": null,
   "id": "803b9843-697f-4a12-a155-938d11d3ebf8",
   "metadata": {},
   "outputs": [],
   "source": []
  }
 ],
 "metadata": {
  "kernelspec": {
   "display_name": "Python 3 (ipykernel)",
   "language": "python",
   "name": "python3"
  },
  "language_info": {
   "codemirror_mode": {
    "name": "ipython",
    "version": 3
   },
   "file_extension": ".py",
   "mimetype": "text/x-python",
   "name": "python",
   "nbconvert_exporter": "python",
   "pygments_lexer": "ipython3",
   "version": "3.12.7"
  }
 },
 "nbformat": 4,
 "nbformat_minor": 5
}
