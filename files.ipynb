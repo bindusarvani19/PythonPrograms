{
 "cells": [
  {
   "cell_type": "code",
   "execution_count": null,
   "id": "10fa33bb-c23d-4be6-84c1-bd734f771893",
   "metadata": {},
   "outputs": [],
   "source": [
    "with open('sunny.text','wt')as file:\n",
    "    text=input(\"enter any data.....\")\n",
    "    file.write(text+'\\n')\n",
    "    file.seek(0)\n",
    "    print(\"\\n latest file content\")\n",
    "    print(file.read())"
   ]
  },
  {
   "cell_type": "code",
   "execution_count": null,
   "id": "5075fe06-6147-402c-87f5-ec9f723e9a0d",
   "metadata": {},
   "outputs": [],
   "source": [
    "filename=input(\"enter filename with extension\")\n",
    "with open(filename) as file:\n",
    "    text=file.read()\n",
    "    letter=input(\"enter a char to serarch frequency:\")\n",
    "    count=0\n",
    "    for chr in text:\n",
    "        if char ==letter:\n",
    "            count +=1\n",
    "print(letter, \"appears\", count, \"times\" in the file\")"
   ]
  },
  {
   "cell_type": "code",
   "execution_count": null,
   "id": "8fc0686a-cb8e-49cf-a169-99fca3471177",
   "metadata": {},
   "outputs": [],
   "source": []
  },
  {
   "cell_type": "code",
   "execution_count": null,
   "id": "453827d7-60bf-48d1-9a48-1d686e46c040",
   "metadata": {},
   "outputs": [],
   "source": [
    "filename=input(\"enter filename with extension\")\n",
    "with open(filename) as file:\n",
    "    text=file.read()\n",
    "    letter=input(\"enter a char to serarch frequency:\")\n",
    "    count=0\n",
    "    for chr in text:\n",
    "        if char ==letter:\n",
    "            count +=1\n",
    "print(letter, \"appears\", count, \"times\" in the file\")"
   ]
  },
  {
   "cell_type": "code",
   "execution_count": null,
   "id": "fbd5fd3a-a161-4e44-bc9d-39caa3ff7a53",
   "metadata": {},
   "outputs": [],
   "source": []
  }
 ],
 "metadata": {
  "kernelspec": {
   "display_name": "Python 3 (ipykernel)",
   "language": "python",
   "name": "python3"
  },
  "language_info": {
   "codemirror_mode": {
    "name": "ipython",
    "version": 3
   },
   "file_extension": ".py",
   "mimetype": "text/x-python",
   "name": "python",
   "nbconvert_exporter": "python",
   "pygments_lexer": "ipython3",
   "version": "3.12.7"
  }
 },
 "nbformat": 4,
 "nbformat_minor": 5
}
