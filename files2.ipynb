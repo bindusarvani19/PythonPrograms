{
 "cells": [
  {
   "cell_type": "code",
   "execution_count": null,
   "id": "cdf14904-e7c8-421f-af19-5b0f1451b3af",
   "metadata": {},
   "outputs": [],
   "source": []
  },
  {
   "cell_type": "code",
   "execution_count": null,
   "id": "bcfe0faa-f02c-43eb-b4a7-7c9720993454",
   "metadata": {},
   "outputs": [],
   "source": [
    "filename=input(\"enter filename with extension\")\n",
    "with open(filename, 'r') as file:\n",
    "    text=file.read()\n",
    "    letter=input(\"enter a char to serarch freqmissisipiuency:\")\n",
    "    count=0\n",
    "    for char in text:\n",
    "        if char ==letter:\n",
    "            count +=1\n",
    "print(letter, \"appears\", count, \"times in the file\")"
   ]
  },
  {
   "cell_type": "code",
   "execution_count": null,
   "id": "5116bf95-c02d-4681-a8bb-73b3f69ad502",
   "metadata": {},
   "outputs": [],
   "source": []
  }
 ],
 "metadata": {
  "kernelspec": {
   "display_name": "Python 3 (ipykernel)",
   "language": "python",
   "name": "python3"
  },
  "language_info": {
   "codemirror_mode": {
    "name": "ipython",
    "version": 3
   },
   "file_extension": ".py",
   "mimetype": "text/x-python",
   "name": "python",
   "nbconvert_exporter": "python",
   "pygments_lexer": "ipython3",
   "version": "3.12.7"
  }
 },
 "nbformat": 4,
 "nbformat_minor": 5
}
