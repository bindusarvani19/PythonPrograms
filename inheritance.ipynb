{
 "cells": [
  {
   "cell_type": "code",
   "execution_count": 5,
   "id": "3e8fef69-d32f-434a-9f24-35f75af1c9d0",
   "metadata": {},
   "outputs": [
    {
     "name": "stdout",
     "output_type": "stream",
     "text": [
      "Engine started....\n",
      "The car is being drove\n"
     ]
    }
   ],
   "source": [
    "class vehicle:\n",
    "    def start_engine(self):\n",
    "        print(\"Engine started....\")\n",
    "class car(vehicle):\n",
    "    def drive(self):\n",
    "        print(\"The car is being drove\")\n",
    "c=car()\n",
    "c.start_engine()#inherited method\n",
    "c.drive() #sub class own method"
   ]
  },
  {
   "cell_type": "code",
   "execution_count": 7,
   "id": "9ea34340-7602-46bc-be26-c6ef8110e556",
   "metadata": {},
   "outputs": [
    {
     "name": "stdout",
     "output_type": "stream",
     "text": [
      "I am a student\n",
      "The student is studying!!!!\n"
     ]
    }
   ],
   "source": [
    "class person:\n",
    "    def info(self):\n",
    "        print(\"I am a student\")\n",
    "class student(person):\n",
    "    def study(self):\n",
    "        print(\"The student is studying!!!!\")\n",
    "s=student()\n",
    "s.info()\n",
    "s.study()\n"
   ]
  },
  {
   "cell_type": "code",
   "execution_count": 13,
   "id": "e85c790e-8ac3-48b8-9b54-de88db5987bb",
   "metadata": {},
   "outputs": [
    {
     "name": "stdin",
     "output_type": "stream",
     "text": [
      "Enter the value of num1: 4\n",
      "Enter the value of num2: 4\n"
     ]
    },
    {
     "name": "stdout",
     "output_type": "stream",
     "text": [
      "The result is : 8\n"
     ]
    }
   ],
   "source": [
    "'''code to perform addition operation using superclass as user input and sub class \n",
    "as operation\n",
    "print the summated value at the subclass'''\n",
    "class operate:\n",
    "    def userdata(self):\n",
    "        self.num1=int(input(\"Enter the value of num1:\"))\n",
    "        self.num2=int(input(\"Enter the value of num2:\"))\n",
    "\n",
    "class summate(operate):\n",
    "    def add(self):\n",
    "        result=self.num1+self.num2\n",
    "        print(f\"The result is : {result}\")\n",
    "\n",
    "\n",
    "c=summate()\n",
    "c.userdata()\n",
    "c.add()"
   ]
  },
  {
   "cell_type": "code",
   "execution_count": 43,
   "id": "fe1e488e-8d82-4065-bbf2-5031f4cc732e",
   "metadata": {},
   "outputs": [
    {
     "name": "stdin",
     "output_type": "stream",
     "text": [
      "Enter num1: 4\n",
      "Enter num2: 0\n"
     ]
    },
    {
     "name": "stdout",
     "output_type": "stream",
     "text": [
      "Error: Cannot divided by zero\n"
     ]
    }
   ],
   "source": [
    "'''code to calculate the normal division by considering input in superclass and\n",
    "evaluation in subclass where zero division error must be handled'''\n",
    "class operate:\n",
    "    def userinput(self):\n",
    "        self.num1=float(input(\"Enter num1:\"))\n",
    "        self.num2=float(input(\"Enter num2:\"))\n",
    "class divider (operate):\n",
    "    def div(self):\n",
    "        try:\n",
    "            result=self.num1/self.num2\n",
    "            print(f\"n result : {result}\")\n",
    "        except ZeroDivisionError:\n",
    "            print(\"Error: Cannot divided by zero\")\n",
    "c=divider()\n",
    "c.userinput()\n",
    "c.div()"
   ]
  },
  {
   "cell_type": "code",
   "execution_count": 1,
   "id": "5a3373da-1d71-474d-a5a5-ab45e1ed7d48",
   "metadata": {},
   "outputs": [
    {
     "name": "stdin",
     "output_type": "stream",
     "text": [
      "Enter name: Bindu\n",
      "Enter Empid: 30\n",
      "Enter Department: IT\n"
     ]
    },
    {
     "name": "stdout",
     "output_type": "stream",
     "text": [
      "Name : Bindu\n",
      "Employee ID : 30\n",
      "Department : IT\n"
     ]
    }
   ],
   "source": [
    "#meta level\n",
    "class intern:#super class\n",
    "    def __init__(self,name):\n",
    "        self.name=name\n",
    "    def display_intern(self):\n",
    "        print(f\"Name : {self.name}\")\n",
    "class employee(intern):# sub class\n",
    "    def __init__(self,name,emp_id):\n",
    "        super().__init__(name)\n",
    "        self.emp_id=emp_id\n",
    "    def display_employee(self):\n",
    "        print(f\"Employee ID : {self.emp_id}\")\n",
    "class manager(employee):#class\n",
    "    def __init__(self,name,emp_id,dept):\n",
    "        super().__init__(name,emp_id)\n",
    "        self.dept=dept\n",
    "    def display_manager(self):\n",
    "        print(f\"Department : {self.dept}\")\n",
    "\n",
    "name=input(\"Enter name:\")\n",
    "emp_id=input(\"Enter Empid:\")\n",
    "dept=input(\"Enter Department:\")\n",
    "m=manager(name,emp_id,dept)\n",
    "m.display_intern()\n",
    "m.display_employee()\n",
    "m.display_manager()"
   ]
  },
  {
   "cell_type": "code",
   "execution_count": 1,
   "id": "6129af83-8885-4873-83b9-44f5043ea9ae",
   "metadata": {},
   "outputs": [
    {
     "name": "stdin",
     "output_type": "stream",
     "text": [
      "Enter a num1 4\n",
      "Enter a num2 4\n"
     ]
    },
    {
     "name": "stdout",
     "output_type": "stream",
     "text": [
      "Sum : 8\n",
      "Multiply : 16\n"
     ]
    }
   ],
   "source": [
    "#math operations\n",
    "class Input:\n",
    "    def __init__(self):\n",
    "        self.num1=int(input(\"Enter a num1\"))\n",
    "        self.num2=int(input(\"Enter a num2\"))\n",
    "class operate(Input):\n",
    "    def __init__(self):\n",
    "        super().__init__()\n",
    "    def add(self):\n",
    "        return self.num1+self.num2\n",
    "    def mul(self):\n",
    "        return self.num1*self.num2\n",
    "class result(operate):\n",
    "    def __init__(self):\n",
    "        super().__init__()\n",
    "    def display(self):\n",
    "        print(f\"Sum : {self.add()}\")\n",
    "        print(f\"Multiply : {self.mul()}\")\n",
    "r=result()\n",
    "r.display()"
   ]
  },
  {
   "cell_type": "code",
   "execution_count": 17,
   "id": "171e5ac2-08b1-4a53-beb0-5791b9f6077a",
   "metadata": {},
   "outputs": [
    {
     "ename": "TypeError",
     "evalue": "input.__init__() takes 1 positional argument but 2 were given",
     "output_type": "error",
     "traceback": [
      "\u001b[31m---------------------------------------------------------------------------\u001b[39m",
      "\u001b[31mTypeError\u001b[39m                                 Traceback (most recent call last)",
      "\u001b[36mCell\u001b[39m\u001b[36m \u001b[39m\u001b[32mIn[17]\u001b[39m\u001b[32m, line 23\u001b[39m\n\u001b[32m     21\u001b[39m         \u001b[38;5;28mprint\u001b[39m(\u001b[33mf\u001b[39m\u001b[33m\"\u001b[39m\u001b[33mSum: \u001b[39m\u001b[38;5;132;01m{\u001b[39;00m\u001b[38;5;28mself\u001b[39m.add()\u001b[38;5;132;01m}\u001b[39;00m\u001b[33m\"\u001b[39m)\n\u001b[32m     22\u001b[39m         \u001b[38;5;28mprint\u001b[39m(\u001b[33mf\u001b[39m\u001b[33m\"\u001b[39m\u001b[33mMultiply: \u001b[39m\u001b[38;5;132;01m{\u001b[39;00m\u001b[38;5;28mself\u001b[39m.mul()\u001b[38;5;132;01m}\u001b[39;00m\u001b[33m\"\u001b[39m)\n\u001b[32m---> \u001b[39m\u001b[32m23\u001b[39m r = \u001b[43mresult\u001b[49m\u001b[43m(\u001b[49m\u001b[43m)\u001b[49m\n\u001b[32m     24\u001b[39m r.display()\n",
      "\u001b[36mCell\u001b[39m\u001b[36m \u001b[39m\u001b[32mIn[17]\u001b[39m\u001b[32m, line 18\u001b[39m, in \u001b[36mresult.__init__\u001b[39m\u001b[34m(self)\u001b[39m\n\u001b[32m     17\u001b[39m \u001b[38;5;28;01mdef\u001b[39;00m \u001b[34m__init__\u001b[39m(\u001b[38;5;28mself\u001b[39m):\n\u001b[32m---> \u001b[39m\u001b[32m18\u001b[39m     \u001b[38;5;28;43msuper\u001b[39;49m\u001b[43m(\u001b[49m\u001b[43m)\u001b[49m\u001b[43m.\u001b[49m\u001b[34;43m__init__\u001b[39;49m\u001b[43m(\u001b[49m\u001b[43m)\u001b[49m\n",
      "\u001b[36mCell\u001b[39m\u001b[36m \u001b[39m\u001b[32mIn[17]\u001b[39m\u001b[32m, line 8\u001b[39m, in \u001b[36moperate.__init__\u001b[39m\u001b[34m(self)\u001b[39m\n\u001b[32m      7\u001b[39m \u001b[38;5;28;01mdef\u001b[39;00m \u001b[34m__init__\u001b[39m(\u001b[38;5;28mself\u001b[39m):\n\u001b[32m----> \u001b[39m\u001b[32m8\u001b[39m     \u001b[38;5;28;43msuper\u001b[39;49m\u001b[43m(\u001b[49m\u001b[43m)\u001b[49m\u001b[43m.\u001b[49m\u001b[34;43m__init__\u001b[39;49m\u001b[43m(\u001b[49m\u001b[43m)\u001b[49m\n",
      "\u001b[36mCell\u001b[39m\u001b[36m \u001b[39m\u001b[32mIn[17]\u001b[39m\u001b[32m, line 3\u001b[39m, in \u001b[36mInput.__init__\u001b[39m\u001b[34m(self)\u001b[39m\n\u001b[32m      2\u001b[39m \u001b[38;5;28;01mdef\u001b[39;00m \u001b[34m__init__\u001b[39m(\u001b[38;5;28mself\u001b[39m):\n\u001b[32m----> \u001b[39m\u001b[32m3\u001b[39m     \u001b[38;5;28mself\u001b[39m.num1 = \u001b[38;5;28mint\u001b[39m(\u001b[38;5;28;43minput\u001b[39;49m\u001b[43m(\u001b[49m\u001b[33;43m\"\u001b[39;49m\u001b[33;43mEnter num1: \u001b[39;49m\u001b[33;43m\"\u001b[39;49m\u001b[43m)\u001b[49m)\n\u001b[32m      4\u001b[39m     \u001b[38;5;28mself\u001b[39m.num2 = \u001b[38;5;28mint\u001b[39m(\u001b[38;5;28minput\u001b[39m(\u001b[33m\"\u001b[39m\u001b[33mEnter num2: \u001b[39m\u001b[33m\"\u001b[39m))\n",
      "\u001b[31mTypeError\u001b[39m: input.__init__() takes 1 positional argument but 2 were given"
     ]
    }
   ],
   "source": [
    "class Input:\n",
    "    def __init__(self):\n",
    "        self.num1 = int(input(\"Enter num1: \"))\n",
    "        self.num2 = int(input(\"Enter num2: \"))\n",
    "\n",
    "class operate(Input):\n",
    "    def __init__(self):\n",
    "        super().__init__()\n",
    "\n",
    "    def add(self):\n",
    "        return self.num1 + self.num2\n",
    "\n",
    "    def mul(self):\n",
    "        return self.num1 * self.num2\n",
    "\n",
    "class result(operate):\n",
    "    def __init__(self):\n",
    "        super().__init__()\n",
    "\n",
    "    def display(self):\n",
    "        print(f\"Sum: {self.add()}\")\n",
    "        print(f\"Multiply: {self.mul()}\")\n",
    "r = result()\n",
    "r.display()\n"
   ]
  },
  {
   "cell_type": "code",
   "execution_count": null,
   "id": "a7edb2ff-e5ce-4c2c-afa2-6085fadd87dd",
   "metadata": {},
   "outputs": [],
   "source": []
  }
 ],
 "metadata": {
  "kernelspec": {
   "display_name": "Python 3 (ipykernel)",
   "language": "python",
   "name": "python3"
  },
  "language_info": {
   "codemirror_mode": {
    "name": "ipython",
    "version": 3
   },
   "file_extension": ".py",
   "mimetype": "text/x-python",
   "name": "python",
   "nbconvert_exporter": "python",
   "pygments_lexer": "ipython3",
   "version": "3.12.7"
  }
 },
 "nbformat": 4,
 "nbformat_minor": 5
}
