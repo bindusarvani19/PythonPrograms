{
 "cells": [
  {
   "cell_type": "code",
   "execution_count": 1,
   "id": "4db8e64a-f607-4f00-a2d3-f2f9e8e6027a",
   "metadata": {},
   "outputs": [
    {
     "name": "stdout",
     "output_type": "stream",
     "text": [
      "Even Mutable list: [32, 54]\n",
      "Odd Mutable list: [21, 43, 65]\n"
     ]
    }
   ],
   "source": [
    "'''Mutable type attributes code illustarate multiple attributes by calling a class fpr its specifications \n",
    "for example n=21,32,43,54,65\n",
    "evenlist:[32,34]\n",
    "oddlist:[21,43,65]'''\n",
    "class number:\n",
    "    evens=[]\n",
    "    odds=[]\n",
    "    def __init__(self,num):\n",
    "        self.num=num\n",
    "        if num%2==0:\n",
    "            number.evens.append(num)\n",
    "        else:\n",
    "            number.odds.append(num)\n",
    "\n",
    "n1=number(21)\n",
    "n2=number(32)\n",
    "n3=number(43)\n",
    "n4=number(54)\n",
    "n5=number(65)\n",
    "print(\"Even Mutable list:\",number.evens)\n",
    "print(\"Odd Mutable list:\",number.odds)\n"
   ]
  },
  {
   "cell_type": "code",
   "execution_count": 19,
   "id": "2474bd6b-8e83-4bb0-b2ff-c4aa906562f8",
   "metadata": {},
   "outputs": [
    {
     "name": "stdin",
     "output_type": "stream",
     "text": [
      "Enter numbers separated by commas:  4,5,6,7,8\n"
     ]
    },
    {
     "name": "stdout",
     "output_type": "stream",
     "text": [
      "Even Mutable list: [4, 6, 8]\n",
      "Odd Mutable list: [5, 7]\n"
     ]
    }
   ],
   "source": [
    "class number:\n",
    "    evens=[]\n",
    "    odds=[]\n",
    "    def __init__(self,num):\n",
    "        self.num=num\n",
    "        if num%2==0:\n",
    "            number.evens.append(num)\n",
    "        else:\n",
    "            number.odds.append(num)\n",
    "\n",
    "n= input(\"Enter numbers separated by commas: \")\n",
    "numbers = [int(num.strip()) for num in n.split(',')]\n",
    "for num in numbers:\n",
    "    number(num)\n",
    "print(\"Even Mutable list:\",number.evens)\n",
    "print(\"Odd Mutable list:\",number.odds)"
   ]
  },
  {
   "cell_type": "code",
   "execution_count": 25,
   "id": "0ce75d3a-5706-496a-8fbb-9f4d45be9c86",
   "metadata": {},
   "outputs": [
    {
     "name": "stdin",
     "output_type": "stream",
     "text": [
      "Enter the value of n: 4\n"
     ]
    },
    {
     "name": "stdout",
     "output_type": "stream",
     "text": [
      "Given value: 4\n",
      "Given value: 64\n"
     ]
    }
   ],
   "source": [
    "def op(x):\n",
    "    return x**3\n",
    "    \n",
    "class abc():\n",
    "    def __init__(self,val):\n",
    "        self.val=val\n",
    "    def display(self):\n",
    "        print(\"Given value:\",self.val)\n",
    "    def modify(self):\n",
    "        self.val=op(self.val)\n",
    "n=int(input(\"Enter the value of n:\"))\n",
    "\n",
    "o=abc(n)\n",
    "o.display()\n",
    "o.modify()\n",
    "o.display()\n"
   ]
  },
  {
   "cell_type": "code",
   "execution_count": 39,
   "id": "13b0d423-a1ca-46d7-a7a0-c8158a76243e",
   "metadata": {},
   "outputs": [
    {
     "name": "stdin",
     "output_type": "stream",
     "text": [
      "Enter n1: 4\n",
      "Enter n2: 5.0\n"
     ]
    },
    {
     "name": "stdout",
     "output_type": "stream",
     "text": [
      "Object.__dict__ -  {'var1': 4, 'var2': 5.0}\n",
      "Object.__doc__- None\n",
      "class.__name__- abc\n",
      "Object.__module__- __main__\n",
      "Base.__bases__- (<class 'object'>,)\n"
     ]
    }
   ],
   "source": [
    "#builtin Attributes\n",
    "class abc():\n",
    "    def __init__(self,var1,var2):\n",
    "        self.var1=var1\n",
    "        self.var2=var2\n",
    "    def display(self):\n",
    "        print(\"Var1:\",self.var1)\n",
    "        print(\"Var2:\",self.var2)\n",
    "n1=int(input(\"Enter n1:\"))\n",
    "n2=float(input(\"Enter n2:\"))\n",
    "o=abc(n1,n2)\n",
    "print(\"Object.__dict__ - \", o.__dict__)\n",
    "print(\"Object.__doc__-\",o.__doc__)\n",
    "print(\"class.__name__-\",abc.__name__)\n",
    "print(\"Object.__module__-\",o.__module__)\n",
    "print(\"Base.__bases__-\",abc.__bases__)"
   ]
  },
  {
   "cell_type": "code",
   "execution_count": 45,
   "id": "45d57b61-f5ef-4495-ad7f-e5f717d1293c",
   "metadata": {},
   "outputs": [
    {
     "name": "stdout",
     "output_type": "stream",
     "text": [
      "Dog barks\n"
     ]
    }
   ],
   "source": [
    "class Animal:\n",
    "    def speak(self):\n",
    "        print(\"Animal speaks\")\n",
    "\n",
    "class Dog(Animal):\n",
    "    def speak(self):\n",
    "        print(\"Dog barks\")\n",
    "\n",
    "d = Dog()\n",
    "d.speak()"
   ]
  },
  {
   "cell_type": "code",
   "execution_count": 52,
   "id": "7f5369de-f701-44c5-b957-4045183c7975",
   "metadata": {},
   "outputs": [
    {
     "name": "stdout",
     "output_type": "stream",
     "text": [
      "HELLO BINDU\n"
     ]
    }
   ],
   "source": [
    "class person:\n",
    "    def greet(self):\n",
    "        print(\"HELLO BINDU\")\n",
    "p1=person()\n",
    "p1.greet()"
   ]
  },
  {
   "cell_type": "code",
   "execution_count": 56,
   "id": "4f81011e-428e-4b0a-889c-005e7775624c",
   "metadata": {},
   "outputs": [
    {
     "name": "stdout",
     "output_type": "stream",
     "text": [
      "<class 'type'>\n",
      "1704\n"
     ]
    }
   ],
   "source": [
    "'''code to view the memory info in a class , which gives the type of the class, size of the class object, and the size of\n",
    "instance \n",
    "const:use package- sys for size of \n",
    "given value of num = 10\n",
    "class A :\n",
    "'''\n",
    "\n",
    "import sys\n",
    "class A:\n",
    "    num=10\n",
    "a=A()\n",
    "print(type(A))\n",
    "print(sys.getsizeof(A))\n"
   ]
  },
  {
   "cell_type": "code",
   "execution_count": 68,
   "id": "d365db8a-0793-4b64-bbec-1d07b46251c3",
   "metadata": {},
   "outputs": [
    {
     "name": "stdout",
     "output_type": "stream",
     "text": [
      "Name: Bindu, Roll: 6\n"
     ]
    }
   ],
   "source": [
    "class Student:\n",
    "    def __init__(self,name,roll):\n",
    "        self.name=name\n",
    "        self.roll=roll\n",
    "    def display(self):\n",
    "        print(f\"Name: {self.name}, Roll: {self.roll}\")\n",
    "s1=Student('Bindu',6)\n",
    "s1.display()\n",
    "    "
   ]
  },
  {
   "cell_type": "code",
   "execution_count": 100,
   "id": "dd5a9e1e-3bc3-40ab-9e75-3151a4bcfd74",
   "metadata": {},
   "outputs": [
    {
     "name": "stdin",
     "output_type": "stream",
     "text": [
      "Enter 4 digit pin 1234\n",
      "Enter amount to debit: 6009\n"
     ]
    },
    {
     "name": "stdout",
     "output_type": "stream",
     "text": [
      "Insufficient\n"
     ]
    }
   ],
   "source": [
    "'''create a class atm and check the pin user1234 define a constructor or a function to withdraw 2000/-balance amount from account\n",
    "5000 ,if the amount is over the balance exit and check the pin for accessing account....'''\n",
    "\n",
    "'''class ATM:\n",
    "    def __init__(self,pin,balance):\n",
    "        self.pin=user123\n",
    "        self.balance=2000\n",
    "    def withdraw(self,pin):\n",
    "        if pin!=self.pin:\n",
    "            print(\"INCORRECT PIN\")\n",
    "        elif 2000>0:\n",
    "            print(\"WITHDRAW 2000\")\n",
    "        else:\n",
    "            print(\"Insufficient\")\n",
    "pin=input(\"Enter the pin\")\n",
    "a1=ATM\n",
    "a1.withdraw(pin)'''\n",
    "class ATM:\n",
    "    def __init__(self):\n",
    "        self.balance=5000\n",
    "        self.pin=\"1234\"\n",
    "    def process(self):\n",
    "        user_pin=input(\"Enter 4 digit pin\")\n",
    "        if user_pin==self.pin:\n",
    "            amount=int(input(\"Enter amount to debit:\"))\n",
    "            if amount<=self.balance:\n",
    "                self.balance-=amount\n",
    "                print(f\"{amount} debited. Remaining balance Rs.{self.balance}\")\n",
    "                \n",
    "            else:\n",
    "                print(\"Insufficient\")\n",
    "        else:\n",
    "            print(\"Pin Incorrect\")\n",
    "atm=ATM()\n",
    "atm.process()\n",
    "\n"
   ]
  },
  {
   "cell_type": "code",
   "execution_count": null,
   "id": "46ca5556-4eba-46ea-a465-308854fac2cb",
   "metadata": {},
   "outputs": [],
   "source": []
  }
 ],
 "metadata": {
  "kernelspec": {
   "display_name": "Python 3 (ipykernel)",
   "language": "python",
   "name": "python3"
  },
  "language_info": {
   "codemirror_mode": {
    "name": "ipython",
    "version": 3
   },
   "file_extension": ".py",
   "mimetype": "text/x-python",
   "name": "python",
   "nbconvert_exporter": "python",
   "pygments_lexer": "ipython3",
   "version": "3.12.7"
  }
 },
 "nbformat": 4,
 "nbformat_minor": 5
}
