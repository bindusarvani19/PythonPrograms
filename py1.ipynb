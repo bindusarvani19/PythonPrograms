{
 "cells": [
  {
   "cell_type": "code",
   "execution_count": 1,
   "id": "4c04199e-d1aa-494f-ad95-628c78d17c1a",
   "metadata": {},
   "outputs": [
    {
     "data": {
      "text/plain": [
       "1"
      ]
     },
     "execution_count": 1,
     "metadata": {},
     "output_type": "execute_result"
    }
   ],
   "source": [
    "6>>+2\n"
   ]
  },
  {
   "cell_type": "code",
   "execution_count": 3,
   "id": "4386e248-a45f-4499-b79d-d04998cc0fa8",
   "metadata": {},
   "outputs": [
    {
     "data": {
      "text/plain": [
       "[3, 2, 1]"
      ]
     },
     "execution_count": 3,
     "metadata": {},
     "output_type": "execute_result"
    }
   ],
   "source": [
    "l=[1,2,3]\n",
    "l[::-1]"
   ]
  },
  {
   "cell_type": "code",
   "execution_count": 1,
   "id": "1d30b0fb-8ac1-4370-8bfe-73fffb66dcc3",
   "metadata": {},
   "outputs": [
    {
     "name": "stdout",
     "output_type": "stream",
     "text": [
      "count: 1\n",
      "count: 2\n",
      "count: 3\n",
      "count: 4\n",
      "count: 5\n",
      "loop completed\n"
     ]
    }
   ],
   "source": [
    "count=1\n",
    "while count<=5:\n",
    "    print(\"count:\",count)\n",
    "    count+=1\n",
    "else:\n",
    "    print(\"loop completed\")"
   ]
  },
  {
   "cell_type": "code",
   "execution_count": 1,
   "id": "0b56d9c3-2c97-4554-a8e5-28d52534148a",
   "metadata": {},
   "outputs": [
    {
     "name": "stdout",
     "output_type": "stream",
     "text": [
      "Number: 1\n",
      "Number: 2\n",
      "Number: 3\n",
      "Number: 4\n",
      "Number: 5\n"
     ]
    }
   ],
   "source": [
    "#while-else break\n",
    "num=1\n",
    "while num<=10:\n",
    "    if num==6:\n",
    "        break\n",
    "    print(\"Number:\",num)\n",
    "    num+=1\n",
    "else:\n",
    "    print(\"break at 5 so 10 numbers will not print\")"
   ]
  },
  {
   "cell_type": "code",
   "execution_count": 11,
   "id": "0fba98a2-ad05-417b-b5f1-eac75e077d97",
   "metadata": {},
   "outputs": [
    {
     "name": "stdout",
     "output_type": "stream",
     "text": [
      "-2\n",
      "-1\n",
      "0\n",
      "1\n",
      "2\n",
      "3\n",
      "4\n",
      "5\n",
      "6\n",
      "7\n",
      "8\n",
      "9\n",
      "10\n"
     ]
    }
   ],
   "source": [
    "num=-2\n",
    "while num<=10:\n",
    "    print(num)\n",
    "    num+=1\n"
   ]
  },
  {
   "cell_type": "code",
   "execution_count": 15,
   "id": "875309aa-369d-4597-b99b-70a9979db3ba",
   "metadata": {},
   "outputs": [
    {
     "name": "stdout",
     "output_type": "stream",
     "text": [
      "2\n",
      "4\n",
      "6\n",
      "8\n",
      "10\n"
     ]
    }
   ],
   "source": [
    "num=0\n",
    "while num<10:\n",
    "    num+=1\n",
    "    if num%2!=0:\n",
    "        continue\n",
    "    print(num)"
   ]
  },
  {
   "cell_type": "code",
   "execution_count": 21,
   "id": "e2a8d5da-cbcb-4397-b2ed-c96dc2d0166f",
   "metadata": {},
   "outputs": [
    {
     "name": "stdin",
     "output_type": "stream",
     "text": [
      "Enter any number: 9876\n"
     ]
    },
    {
     "name": "stdout",
     "output_type": "stream",
     "text": [
      "6789\n"
     ]
    }
   ],
   "source": [
    "num=int(input(\"Enter any number:\"))\n",
    "rev=0\n",
    "while(num!=0):\n",
    "    r=num%10\n",
    "    rev=rev*10+r\n",
    "    num=num//10\n",
    "print(rev)"
   ]
  },
  {
   "cell_type": "code",
   "execution_count": 27,
   "id": "147cb8d6-34d7-482d-86fa-b6fe3000c82f",
   "metadata": {},
   "outputs": [
    {
     "name": "stdout",
     "output_type": "stream",
     "text": [
      "Reversed string: inenimaR amileeN\n"
     ]
    }
   ],
   "source": [
    "s=\"Neelima Ramineni\"\n",
    "rev=\"\"\n",
    "i=len(s)-1\n",
    "while i>=0:\n",
    "    rev+=s[i]\n",
    "    i-=1\n",
    "print(\"Reversed string:\",rev)"
   ]
  },
  {
   "cell_type": "code",
   "execution_count": 35,
   "id": "7666b631-4739-4788-9e8e-b1b3fab7b89d",
   "metadata": {},
   "outputs": [
    {
     "name": "stdout",
     "output_type": "stream",
     "text": [
      "['Mississippi', 'is in USA']\n"
     ]
    }
   ],
   "source": [
    "text=\"Mississippi is in USA\"\n",
    "words=text.split(\" \",1)\n",
    "print(words)"
   ]
  },
  {
   "cell_type": "code",
   "execution_count": 45,
   "id": "e8c2addc-2064-4f8e-bfc1-048099e23f25",
   "metadata": {},
   "outputs": [
    {
     "name": "stdout",
     "output_type": "stream",
     "text": [
      "reversed word: amileeN inenimaR\n"
     ]
    }
   ],
   "source": [
    "text=\"Neelima Ramineni\"\n",
    "words=text.split()\n",
    "i=0\n",
    "while i<len(words):\n",
    "    words[i]=words[i][::-1]\n",
    "    i+=1\n",
    "rev=\" \".join(words)\n",
    "print(\"reversed word:\",rev)"
   ]
  },
  {
   "cell_type": "code",
   "execution_count": 69,
   "id": "63985bc2-2947-492c-9490-334e0b6af3a1",
   "metadata": {},
   "outputs": [
    {
     "name": "stdout",
     "output_type": "stream",
     "text": [
      "11 13 15 17 19 21 23 25 27 29 31 33 35 37 39 "
     ]
    }
   ],
   "source": [
    "for i in range(11,41,2):\n",
    "    print(i,end=\" \")"
   ]
  },
  {
   "cell_type": "code",
   "execution_count": 65,
   "id": "7d9903eb-606b-4864-8f8f-55ba662d11a0",
   "metadata": {},
   "outputs": [
    {
     "name": "stdout",
     "output_type": "stream",
     "text": [
      "Apple\n",
      "Banana\n",
      "kiwi\n"
     ]
    }
   ],
   "source": [
    "fruits=['Apple','Banana','kiwi']\n",
    "for fruit in fruits:\n",
    "    print(fruit)"
   ]
  },
  {
   "cell_type": "code",
   "execution_count": null,
   "id": "c9986f3c-c124-41fb-a4fb-959b3c70858f",
   "metadata": {},
   "outputs": [
    {
     "name": "stdin",
     "output_type": "stream",
     "text": [
      "Enter any number: 145\n"
     ]
    }
   ],
   "source": [
    "num=int(input(\"Enter any number:\"))\n",
    "copy=num\n",
    "sum=0\n",
    "while num>0:\n",
    "    d=num%10\n",
    "    f=1\n",
    "    for i in range(1,d+1):\n",
    "        f*=i\n",
    "    sum+=f\n",
    "    num//10\n",
    "if sum==copy:\n",
    "    print(copy,\"is a strong number\")\n",
    "else:\n",
    "    print(copy,\"is not a strong number\")\n",
    "    \n"
   ]
  },
  {
   "cell_type": "code",
   "execution_count": null,
   "id": "787b217b-d32b-443a-a4ad-1eb12f058ac0",
   "metadata": {},
   "outputs": [],
   "source": []
  }
 ],
 "metadata": {
  "kernelspec": {
   "display_name": "Python 3 (ipykernel)",
   "language": "python",
   "name": "python3"
  },
  "language_info": {
   "codemirror_mode": {
    "name": "ipython",
    "version": 3
   },
   "file_extension": ".py",
   "mimetype": "text/x-python",
   "name": "python",
   "nbconvert_exporter": "python",
   "pygments_lexer": "ipython3",
   "version": "3.12.7"
  }
 },
 "nbformat": 4,
 "nbformat_minor": 5
}
