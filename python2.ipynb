{
 "cells": [
  {
   "cell_type": "code",
   "execution_count": 1,
   "id": "8d21422f-ea61-42d5-9745-3721c33aff64",
   "metadata": {},
   "outputs": [
    {
     "name": "stdin",
     "output_type": "stream",
     "text": [
      "enter length of string: 3\n"
     ]
    },
    {
     "name": "stdout",
     "output_type": "stream",
     "text": [
      "Binary combinations......\n",
      " 000\n",
      " 001\n",
      " 010\n",
      " 011\n",
      " 100\n",
      " 101\n",
      " 110\n",
      " 111\n"
     ]
    }
   ],
   "source": [
    "def binary(n, b=' '):\n",
    "     if n==0:\n",
    "        print(b)\n",
    "        return\n",
    "     binary(n-1, b +'0' )\n",
    "     binary(n-1, b +'1' )\n",
    "\n",
    "length=int(input(\"enter length of string:\"))\n",
    "print(\"Binary combinations......\")\n",
    "binary(length)"
   ]
  },
  {
   "cell_type": "code",
   "execution_count": 3,
   "id": "4a0c53f4-9222-4101-8977-1fff3e7cf5b8",
   "metadata": {},
   "outputs": [
    {
     "name": "stdin",
     "output_type": "stream",
     "text": [
      "enter length of string: 4\n"
     ]
    },
    {
     "name": "stdout",
     "output_type": "stream",
     "text": [
      "Binary combinations......\n",
      " 0000\n",
      " 0001\n",
      " 0010\n",
      " 0011\n",
      " 0100\n",
      " 0101\n",
      " 0110\n",
      " 0111\n",
      " 1000\n",
      " 1001\n",
      " 1010\n",
      " 1011\n",
      " 1100\n",
      " 1101\n",
      " 1110\n",
      " 1111\n"
     ]
    }
   ],
   "source": [
    "def binary(n, b=' '):\n",
    "     if n==0:\n",
    "        print(b)\n",
    "        return\n",
    "     binary(n-1, b +'0' )\n",
    "     binary(n-1, b +'1' )\n",
    "\n",
    "length=int(input(\"enter length of string:\"))\n",
    "print(\"Binary combinations......\")\n",
    "binary(length)"
   ]
  },
  {
   "cell_type": "code",
   "execution_count": 5,
   "id": "baf3e1f3-76db-456a-91bc-05ef495bde17",
   "metadata": {},
   "outputs": [
    {
     "name": "stdin",
     "output_type": "stream",
     "text": [
      "enter number of terms to print: 3\n"
     ]
    },
    {
     "name": "stdout",
     "output_type": "stream",
     "text": [
      "fibonacci series-----\n",
      "0  1  1  "
     ]
    }
   ],
   "source": [
    "def fib(n):\n",
    "    if n<=1:\n",
    "        return n\n",
    "    return fib(n-1)+fib(n-2)\n",
    "terms=int(input(\"enter number of terms to print:\"))\n",
    "print((\"fibonacci series-----\"))\n",
    "for i in range(terms):\n",
    "    print(fib(i),end='  ')"
   ]
  },
  {
   "cell_type": "code",
   "execution_count": 7,
   "id": "929e1028-5e3d-4fd6-ba0c-4fcd77f2e3e2",
   "metadata": {},
   "outputs": [
    {
     "name": "stdin",
     "output_type": "stream",
     "text": [
      "enter number of terms to print: 5\n"
     ]
    },
    {
     "name": "stdout",
     "output_type": "stream",
     "text": [
      "fibonacci series-----\n",
      "0  1  1  2  3  "
     ]
    }
   ],
   "source": [
    "def fib(n):\n",
    "    if n<=1:\n",
    "        return n\n",
    "    return fib(n-1)+fib(n-2)\n",
    "terms=int(input(\"enter number of terms to print:\"))\n",
    "print((\"fibonacci series-----\"))\n",
    "for i in range(terms):\n",
    "    print(fib(i),end='  ')"
   ]
  },
  {
   "cell_type": "code",
   "execution_count": 9,
   "id": "a1868872-b2c8-463f-93e3-030b7c7ee305",
   "metadata": {},
   "outputs": [
    {
     "name": "stdin",
     "output_type": "stream",
     "text": [
      "enter a name/word:  abc\n"
     ]
    },
    {
     "name": "stdout",
     "output_type": "stream",
     "text": [
      "possibilities of  combinations.....\n",
      " abc\n",
      " acb\n",
      " bac\n",
      " bca\n",
      " cab\n",
      " cba\n"
     ]
    }
   ],
   "source": [
    "def permute(s, bucket=' '):\n",
    "    if not s:\n",
    "        print(bucket)\n",
    "        return\n",
    "    for i in range(len(s)):\n",
    "        ns=s[:i]+s[i+1:]\n",
    "        permute(ns,bucket+s[i])\n",
    "text=input(\"enter a name/word: \")\n",
    "print(\"possibilities of  combinations.....\")\n",
    "permute(text)"
   ]
  },
  {
   "cell_type": "code",
   "execution_count": 11,
   "id": "cecfa527-ead2-4fbe-9ed2-0cde0dc7635b",
   "metadata": {},
   "outputs": [
    {
     "name": "stdin",
     "output_type": "stream",
     "text": [
      "enter a name/word:  abcd\n"
     ]
    },
    {
     "name": "stdout",
     "output_type": "stream",
     "text": [
      "possibilities of  combinations.....\n",
      " abcd\n",
      " abdc\n",
      " acbd\n",
      " acdb\n",
      " adbc\n",
      " adcb\n",
      " bacd\n",
      " badc\n",
      " bcad\n",
      " bcda\n",
      " bdac\n",
      " bdca\n",
      " cabd\n",
      " cadb\n",
      " cbad\n",
      " cbda\n",
      " cdab\n",
      " cdba\n",
      " dabc\n",
      " dacb\n",
      " dbac\n",
      " dbca\n",
      " dcab\n",
      " dcba\n"
     ]
    }
   ],
   "source": [
    "def permute(s, bucket=' '):\n",
    "    if not s:\n",
    "        print(bucket)\n",
    "        return\n",
    "    for i in range(len(s)):\n",
    "        ns=s[:i]+s[i+1:]\n",
    "        permute(ns,bucket+s[i])\n",
    "text=input(\"enter a name/word: \")\n",
    "print(\"possibilities of  combinations.....\")\n",
    "permute(text)"
   ]
  },
  {
   "cell_type": "code",
   "execution_count": 17,
   "id": "7ff5aaa2-96ea-4fae-8939-f595a1fe61dc",
   "metadata": {},
   "outputs": [
    {
     "name": "stdin",
     "output_type": "stream",
     "text": [
      "enter a number: 3\n"
     ]
    },
    {
     "name": "stdout",
     "output_type": "stream",
     "text": [
      "1\n",
      "2\n",
      "3\n"
     ]
    }
   ],
   "source": [
    "def head(n):\n",
    "    if n==0:\n",
    "        return\n",
    "    head(n-1)\n",
    "    print(n) \n",
    "num=int(input(\"enter a number:\"))\n",
    "head(num)\n",
    "\n",
    "    \n"
   ]
  },
  {
   "cell_type": "code",
   "execution_count": 27,
   "id": "d72ab4d8-a3d4-414f-b592-51acb396017d",
   "metadata": {},
   "outputs": [
    {
     "name": "stdin",
     "output_type": "stream",
     "text": [
      "enter a number: 4\n"
     ]
    },
    {
     "name": "stdout",
     "output_type": "stream",
     "text": [
      "1\n",
      "2\n",
      "3\n",
      "4\n"
     ]
    }
   ],
   "source": [
    "def head(n):\n",
    "    if n==0:\n",
    "        return\n",
    "    head(n-1)\n",
    "    print(n) \n",
    "num=int(input(\"enter a number:\"))\n",
    "head(num)\n",
    "\n",
    "    \n"
   ]
  },
  {
   "cell_type": "markdown",
   "id": "34bf3f95-ed28-4849-9652-af367ef7fcae",
   "metadata": {},
   "source": [
    "### def sumhead(n):\n",
    "    if n==0:\n",
    "        return 0\n",
    "num= int(input(\"enter a number:\"))\n",
    "print(\"sum:\",sumhead(num))"
   ]
  },
  {
   "cell_type": "code",
   "execution_count": 54,
   "id": "e969e41a-bb18-45ee-b148-bddfdf380ffb",
   "metadata": {},
   "outputs": [
    {
     "name": "stdin",
     "output_type": "stream",
     "text": [
      "enter a number: 3\n"
     ]
    },
    {
     "name": "stdout",
     "output_type": "stream",
     "text": [
      "sum: None\n"
     ]
    }
   ],
   "source": [
    "def sumhead(n):\n",
    "     if n==0:\n",
    "        return 0\n",
    "     return n+sumh\n",
    "num= int(input(\"enter a number:\"))\n",
    "print(\"sum:\",sumhead(num))"
   ]
  },
  {
   "cell_type": "code",
   "execution_count": 52,
   "id": "79957ee5-af4e-4b4b-9be7-76a0597efeee",
   "metadata": {},
   "outputs": [
    {
     "name": "stdin",
     "output_type": "stream",
     "text": [
      "enter a number: 6\n"
     ]
    },
    {
     "name": "stdout",
     "output_type": "stream",
     "text": [
      "sum: 21\n"
     ]
    }
   ],
   "source": [
    "def sumtail(n, temp=0):\n",
    "    if n==0:\n",
    "        return temp\n",
    "    return sumtail(n-1,temp+n)\n",
    "num=int(input(\"enter a number:\"))\n",
    "print(\"sum:\",sumtail(num))"
   ]
  },
  {
   "cell_type": "code",
   "execution_count": null,
   "id": "37223dee-ceeb-4ef1-ab15-dcee56112ea9",
   "metadata": {},
   "outputs": [],
   "source": []
  }
 ],
 "metadata": {
  "kernelspec": {
   "display_name": "Python 3 (ipykernel)",
   "language": "python",
   "name": "python3"
  },
  "language_info": {
   "codemirror_mode": {
    "name": "ipython",
    "version": 3
   },
   "file_extension": ".py",
   "mimetype": "text/x-python",
   "name": "python",
   "nbconvert_exporter": "python",
   "pygments_lexer": "ipython3",
   "version": "3.12.7"
  }
 },
 "nbformat": 4,
 "nbformat_minor": 5
}
